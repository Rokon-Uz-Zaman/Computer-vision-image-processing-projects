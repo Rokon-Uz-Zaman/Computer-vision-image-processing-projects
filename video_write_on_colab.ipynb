{
  "nbformat": 4,
  "nbformat_minor": 0,
  "metadata": {
    "colab": {
      "name": "reserve video write on colab.ipynb",
      "provenance": [],
      "authorship_tag": "ABX9TyMgaCib5vWF7vfQzzlJX7Ub",
      "include_colab_link": true
    },
    "kernelspec": {
      "name": "python3",
      "display_name": "Python 3"
    },
    "language_info": {
      "name": "python"
    }
  },
  "cells": [
    {
      "cell_type": "markdown",
      "metadata": {
        "id": "view-in-github",
        "colab_type": "text"
      },
      "source": [
        "<a href=\"https://colab.research.google.com/github/Rokon-Uz-Zaman/Computer-vision-image-processing-projects/blob/main/video_write_on_colab.ipynb\" target=\"_parent\"><img src=\"https://colab.research.google.com/assets/colab-badge.svg\" alt=\"Open In Colab\"/></a>"
      ]
    },
    {
      "cell_type": "code",
      "execution_count": 2,
      "metadata": {
        "id": "NtWT2ieyYc3e"
      },
      "outputs": [],
      "source": [
        "import cv2"
      ]
    },
    {
      "cell_type": "code",
      "source": [
        "cap = cv2.VideoCapture(\"/content/test video.mp4\")\n",
        "\n",
        "frameWidth=int(cap.get(3))\n",
        "frameHeight= int(cap.get(4))\n",
        "size=(frameWidth,frameHeight)\n",
        "#result = cv2.VideoWriter('filename.avi',cv2.VideoWriter_fourcc(*'MJPG'),10,size)\n",
        "out=cv2.VideoWriter('outputFile.avi',cv2.VideoWriter_fourcc(*'MJPG'),10,size)\n",
        "while True:\n",
        "      check,img=cap.read()\n",
        "     \n",
        "       \n",
        "        \n",
        "        \n",
        "      font = cv2.FONT_HERSHEY_SIMPLEX\n",
        "      img=cv2.putText(img,'Roman video Editor',(5,50),font ,2,(0,0,255),10)\n",
        "      img=cv2.putText(img,' Q  quit video',(1,500),font ,2,(0,0,255),10)\n",
        "      img=cv2.putText(img,' G  Gray ',(1,600),font ,2,(0,0,255),10)\n",
        "      img=cv2.putText(img,' H  HSV',(1,700),font ,2,(0,0,255),10)\n",
        "      \n",
        "        \n",
        "      #cv2.imshow('this is gray version j ', img2)\n",
        "      out.write(img) \n",
        "\n",
        "        #cv2.waitKey(100)  # 1sec= 1k milisec\n",
        "        #if cv2.waitKey(100) & 0XFF== ord('q'):\n",
        "            #break\n",
        "      if cv2.waitKey(100) & 0XFF== ord('q'):\n",
        "          cv2.destroyAllWindows()\n",
        "          break\n",
        "\n"
      ],
      "metadata": {
        "colab": {
          "base_uri": "https://localhost:8080/",
          "height": 229
        },
        "id": "2ze8XIx9bC6B",
        "outputId": "43b95589-4c20-4bd4-eb0a-b090cd3804d6"
      },
      "execution_count": 3,
      "outputs": [
        {
          "output_type": "error",
          "ename": "KeyboardInterrupt",
          "evalue": "ignored",
          "traceback": [
            "\u001b[0;31m---------------------------------------------------------------------------\u001b[0m",
            "\u001b[0;31mKeyboardInterrupt\u001b[0m                         Traceback (most recent call last)",
            "\u001b[0;32m<ipython-input-3-5fdb865dc98b>\u001b[0m in \u001b[0;36m<module>\u001b[0;34m()\u001b[0m\n\u001b[1;32m      7\u001b[0m \u001b[0mout\u001b[0m\u001b[0;34m=\u001b[0m\u001b[0mcv2\u001b[0m\u001b[0;34m.\u001b[0m\u001b[0mVideoWriter\u001b[0m\u001b[0;34m(\u001b[0m\u001b[0;34m'outputFile.avi'\u001b[0m\u001b[0;34m,\u001b[0m\u001b[0mcv2\u001b[0m\u001b[0;34m.\u001b[0m\u001b[0mVideoWriter_fourcc\u001b[0m\u001b[0;34m(\u001b[0m\u001b[0;34m*\u001b[0m\u001b[0;34m'MJPG'\u001b[0m\u001b[0;34m)\u001b[0m\u001b[0;34m,\u001b[0m\u001b[0;36m10\u001b[0m\u001b[0;34m,\u001b[0m\u001b[0msize\u001b[0m\u001b[0;34m)\u001b[0m\u001b[0;34m\u001b[0m\u001b[0;34m\u001b[0m\u001b[0m\n\u001b[1;32m      8\u001b[0m \u001b[0;32mwhile\u001b[0m \u001b[0;32mTrue\u001b[0m\u001b[0;34m:\u001b[0m\u001b[0;34m\u001b[0m\u001b[0;34m\u001b[0m\u001b[0m\n\u001b[0;32m----> 9\u001b[0;31m       \u001b[0mcheck\u001b[0m\u001b[0;34m,\u001b[0m\u001b[0mimg\u001b[0m\u001b[0;34m=\u001b[0m\u001b[0mcap\u001b[0m\u001b[0;34m.\u001b[0m\u001b[0mread\u001b[0m\u001b[0;34m(\u001b[0m\u001b[0;34m)\u001b[0m\u001b[0;34m\u001b[0m\u001b[0;34m\u001b[0m\u001b[0m\n\u001b[0m\u001b[1;32m     10\u001b[0m \u001b[0;34m\u001b[0m\u001b[0m\n\u001b[1;32m     11\u001b[0m \u001b[0;34m\u001b[0m\u001b[0m\n",
            "\u001b[0;31mKeyboardInterrupt\u001b[0m: "
          ]
        }
      ]
    }
  ]
}